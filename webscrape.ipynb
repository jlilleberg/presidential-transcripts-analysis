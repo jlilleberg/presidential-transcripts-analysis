{
 "cells": [
  {
   "cell_type": "code",
   "execution_count": 1,
   "metadata": {},
   "outputs": [
    {
     "ename": "ModuleNotFoundError",
     "evalue": "No module named 'bs4'",
     "output_type": "error",
     "traceback": [
      "\u001b[0;31m---------------------------------------------------------------------------\u001b[0m",
      "\u001b[0;31mModuleNotFoundError\u001b[0m                       Traceback (most recent call last)",
      "\u001b[0;32m<ipython-input-1-71bbae31af89>\u001b[0m in \u001b[0;36m<module>\u001b[0;34m\u001b[0m\n\u001b[1;32m      5\u001b[0m \u001b[0;31m# Web scraping, pickle, selenium imports\u001b[0m\u001b[0;34m\u001b[0m\u001b[0;34m\u001b[0m\u001b[0;34m\u001b[0m\u001b[0m\n\u001b[1;32m      6\u001b[0m \u001b[0;32mimport\u001b[0m \u001b[0mrequests\u001b[0m\u001b[0;34m\u001b[0m\u001b[0;34m\u001b[0m\u001b[0m\n\u001b[0;32m----> 7\u001b[0;31m \u001b[0;32mfrom\u001b[0m \u001b[0mbs4\u001b[0m \u001b[0;32mimport\u001b[0m \u001b[0mBeautifulSoup\u001b[0m\u001b[0;34m\u001b[0m\u001b[0;34m\u001b[0m\u001b[0m\n\u001b[0m\u001b[1;32m      8\u001b[0m \u001b[0;32mimport\u001b[0m \u001b[0mpickle\u001b[0m\u001b[0;34m\u001b[0m\u001b[0;34m\u001b[0m\u001b[0m\n\u001b[1;32m      9\u001b[0m \u001b[0;32mfrom\u001b[0m \u001b[0mselenium\u001b[0m \u001b[0;32mimport\u001b[0m \u001b[0mwebdriver\u001b[0m\u001b[0;34m\u001b[0m\u001b[0;34m\u001b[0m\u001b[0m\n",
      "\u001b[0;31mModuleNotFoundError\u001b[0m: No module named 'bs4'"
     ]
    }
   ],
   "source": [
    "# Numpy, Pandas imports\n",
    "import pandas as pd\n",
    "import numpy as np\n",
    "\n",
    "# Web scraping, pickle, selenium imports\n",
    "import requests\n",
    "from bs4 import BeautifulSoup\n",
    "import pickle\n",
    "from selenium import webdriver\n",
    "\n",
    "# Progress Bar, time, system inputs\n",
    "from tqdm import tqdm\n",
    "import time\n",
    "import sys\n",
    "\n",
    "# Set recursion limit for pickeling\n",
    "sys.setrecursionlimit(1000000)"
   ]
  },
  {
   "cell_type": "markdown",
   "metadata": {},
   "source": [
    "# Helper Functions"
   ]
  },
  {
   "cell_type": "code",
   "execution_count": 2,
   "metadata": {},
   "outputs": [],
   "source": [
    "def fetch_transcript(url):\n",
    "    \"\"\" Fetches speech trancript from url \"\"\"\n",
    "    \n",
    "    # Soup object for url\n",
    "    page = requests.get(url).text\n",
    "    soup = BeautifulSoup(page, 'lxml')\n",
    "    \n",
    "    # Checks if 'View Transcript' button exists\n",
    "    view_transcript = True if soup.find_all(\"div\", {\"class\": \"transcript-btn-inner\"}) else False\n",
    "\n",
    "    \n",
    "    if not view_transcript:\n",
    "        try:\n",
    "            return soup.find_all(\"div\", {\"class\": \"view-transcript\"})[0].text\n",
    "        except:\n",
    "            return soup.find_all(\"div\", {\"class\": \"transcript-inner\"})[0].text\n",
    "    else:\n",
    "        # Driver clicks 'View Transcript' allowing transcript to be fetched\n",
    "        driver = webdriver.Chrome()\n",
    "        driver.get(url)\n",
    "        continue_link = driver.find_element_by_link_text('View Transcript').click()        \n",
    "        transcript = soup.find_all(\"div\", {\"class\": \"transcript-inner\"})[0].text\n",
    "        return transcript"
   ]
  },
  {
   "cell_type": "code",
   "execution_count": 3,
   "metadata": {},
   "outputs": [],
   "source": [
    "def parse_url(url):\n",
    "    \"\"\" Fetches date, president's name, speech title, summary of the speech, and transcript from speech url\"\"\"\n",
    "\n",
    "    # Soup object for url\n",
    "    page = requests.get(url).text\n",
    "    soup = BeautifulSoup(page, 'lxml')\n",
    "    \n",
    "    # Extract date, president's name, and speech title\n",
    "    date = soup.find_all(\"p\", {\"class\": \"episode-date\"})[0].text\n",
    "    president_name = soup.find_all(\"label\", {\"class\": \"presidential-speeches--label\"})[0].text.strip()\n",
    "    speech_title = soup.find_all(\"h2\", {\"class\": \"presidential-speeches--title\"})[0].text.strip()\n",
    "    \n",
    "    # Extract summary and handle special cases with different html formatting\n",
    "    summary = soup.find_all(\"div\", {\"class\": \"about-sidebar--intro\"})\n",
    "    if summary:\n",
    "        try:\n",
    "            summary = summary[0].text\n",
    "        except:\n",
    "            soup.find_all(\"div\", {\"class\": \"about-sidebar--intro\"})[0].text\n",
    "    else:\n",
    "        summary = ''\n",
    "    \n",
    "    transcript = fetch_transcript(url)\n",
    "    return (date, president_name, speech_title, summary, transcript)"
   ]
  },
  {
   "cell_type": "markdown",
   "metadata": {},
   "source": [
    "# Webscrape Presidential Speeches"
   ]
  },
  {
   "cell_type": "code",
   "execution_count": 4,
   "metadata": {},
   "outputs": [],
   "source": [
    "# Read HTML\n",
    "with open('html/presidential_speeches.html') as file:\n",
    "    html = file.read()\n",
    "\n",
    "# Soup object for html\n",
    "soup = BeautifulSoup(html, 'lxml')\n",
    "\n",
    "# List of page links\n",
    "pages = ['https://millercenter.org' + item.a['href'] for item in soup.find_all(\"div\", {\"class\": \"views-row\"})]\n",
    "\n",
    "# Initialize lists\n",
    "dates = []\n",
    "president_names = []\n",
    "speech_titles = []\n",
    "summaries = []\n",
    "transcripts = []\n",
    "urls = []"
   ]
  },
  {
   "cell_type": "code",
   "execution_count": 5,
   "metadata": {
    "scrolled": true
   },
   "outputs": [
    {
     "name": "stderr",
     "output_type": "stream",
     "text": [
      "100%|██████████| 992/992 [56:52<00:00,  3.44s/it]  \n"
     ]
    }
   ],
   "source": [
    "# Parses urls for the specified data and updates their lists respectively\n",
    "# Note: There are 992 pages ~ 100%|██████████| 992/992 [56:52<00:00,  3.44s/it]  ~ 1 hour\n",
    "for url in tqdm(pages):\n",
    "    while True:\n",
    "        try:\n",
    "            date, president_name, speech_title, summary, transcript = parse_url(url)\n",
    "            dates += [date]\n",
    "            president_names += [president_name]\n",
    "            speech_titles += [speech_title]\n",
    "            summaries += [summary]\n",
    "            transcripts += [transcript]\n",
    "            urls += [url]\n",
    "        except:\n",
    "            # If there is connection failure, wait 5 seconds then retry\n",
    "            time.sleep(2)\n",
    "            continue\n",
    "        break"
   ]
  },
  {
   "cell_type": "code",
   "execution_count": 6,
   "metadata": {},
   "outputs": [],
   "source": [
    "# Pickle raw data \n",
    "pickle.dump(dates, open(\"pickles/webscrape/webscrape_dates.p\", \"wb\" ))\n",
    "pickle.dump(president_names, open(\"pickles/webscrape/webscrape_president_names.p\", \"wb\" ))\n",
    "pickle.dump(speech_titles, open(\"pickles/webscrape/webscrape_speech_titles.p\", \"wb\" ))\n",
    "pickle.dump(summaries, open(\"pickles/webscrape/webscrape_summaries.p\", \"wb\" ))\n",
    "pickle.dump(transcripts, open(\"pickles/webscrape/webscrape_transcripts.p\", \"wb\" ))\n",
    "pickle.dump(urls, open(\"pickles/webscrape/webscrape_urls.p\", \"wb\" ))\n",
    "\n",
    "data = {\n",
    "    'Date': dates,\n",
    "    'President': president_names,\n",
    "    'Speech Title': speech_titles,\n",
    "    'Summary': summaries,\n",
    "    'Transcript': transcripts,\n",
    "    'URL': urls\n",
    "}\n",
    "\n",
    "# Pickle dataframe\n",
    "pickle.dump(pd.DataFrame(data), open(\"pickles/webscrape/raw_speech_data.p\", \"wb\" ))"
   ]
  }
 ],
 "metadata": {
  "kernelspec": {
   "display_name": "Python 3",
   "language": "python",
   "name": "python3"
  },
  "language_info": {
   "codemirror_mode": {
    "name": "ipython",
    "version": 3
   },
   "file_extension": ".py",
   "mimetype": "text/x-python",
   "name": "python",
   "nbconvert_exporter": "python",
   "pygments_lexer": "ipython3",
   "version": "3.7.6"
  }
 },
 "nbformat": 4,
 "nbformat_minor": 2
}
