{
 "cells": [
  {
   "cell_type": "code",
   "execution_count": 1,
   "metadata": {},
   "outputs": [],
   "source": [
    "import pandas as pd\n",
    "import numpy as np\n",
    "\n",
    "# Plotly\n",
    "import plotly.graph_objects as go\n",
    "\n",
    "import pickle\n",
    "\n",
    "from collections import Counter\n",
    "from sklearn.feature_extraction import text \n",
    "from sklearn.feature_extraction.text import CountVectorizer\n",
    "from textblob import TextBlob\n",
    "\n",
    "from matplotlib import pyplot as plt\n",
    "from adjustText import adjust_text\n",
    "import math\n",
    "from tqdm import tqdm\n",
    "import seaborn as sns"
   ]
  },
  {
   "cell_type": "markdown",
   "metadata": {},
   "source": [
    "## Helper Functions"
   ]
  },
  {
   "cell_type": "code",
   "execution_count": 2,
   "metadata": {},
   "outputs": [],
   "source": [
    "def split_text(text, n=10):\n",
    "    \"\"\"\n",
    "        Splits text into n partitions\n",
    "    \"\"\"\n",
    "    \n",
    "    # Get partition ranges\n",
    "    length = len(text)\n",
    "    partition_size = math.floor(length/n)\n",
    "    partition = np.arange(0, length, partition_size)\n",
    "    \n",
    "    # split text\n",
    "    text_partition = []\n",
    "    for split in range(n):\n",
    "        text_partition.append(text[partition[split]:partition[split]+partition_size])\n",
    "    return text_partition"
   ]
  },
  {
   "cell_type": "code",
   "execution_count": 3,
   "metadata": {},
   "outputs": [],
   "source": [
    "def build_presidents_polarity_transcripts(corpus, n=10):\n",
    "    \"\"\"\n",
    "        Returns the polarity of the corpus for each president's text\n",
    "    \"\"\"\n",
    "    \n",
    "    polarity_transcripts = {}\n",
    "    for president in corpus.index:\n",
    "        transcript = corpus.loc[president].transcripts\n",
    "        partitioned_text = split_text(transcript, n)\n",
    "        polarity_text = list(map(pol, partitioned_text))\n",
    "        polarity_transcripts[president] = polarity_text\n",
    "    return polarity_transcripts"
   ]
  },
  {
   "cell_type": "code",
   "execution_count": 4,
   "metadata": {},
   "outputs": [],
   "source": [
    "def build_presidents_subjectivity_transcripts(corpus, n=10):\n",
    "    \"\"\"\n",
    "        Returns the subjectivity of the corpus for each president's text\n",
    "    \"\"\"\n",
    "    \n",
    "    polarity_transcripts = {}\n",
    "    for president in corpus.index:\n",
    "        transcript = corpus.loc[president].transcripts\n",
    "        partitioned_text = split_text(transcript, n)\n",
    "        polarity_text = list(map(sub, partitioned_text))\n",
    "        polarity_transcripts[president] = polarity_text\n",
    "    return polarity_transcripts"
   ]
  },
  {
   "cell_type": "code",
   "execution_count": 5,
   "metadata": {},
   "outputs": [],
   "source": [
    "def build_party_polarity_transcripts(corpus, n=10):\n",
    "    \"\"\"\n",
    "        Returns the polarity of the corpus for each party's text\n",
    "    \"\"\"\n",
    "    \n",
    "    polarity_transcripts = {}\n",
    "    for party in corpus.index:\n",
    "        transcript = corpus.loc[party].transcripts\n",
    "        partitioned_text = split_text(transcript, n)\n",
    "        polarity_text = list(map(pol, partitioned_text))\n",
    "        polarity_transcripts[party] = polarity_text\n",
    "    return polarity_transcripts"
   ]
  },
  {
   "cell_type": "code",
   "execution_count": 6,
   "metadata": {},
   "outputs": [],
   "source": [
    "def build_party_subjectivity_transcripts(corpus, n=10):\n",
    "    \"\"\"\n",
    "        Returns the subjectivity of the corpus for each party's text\n",
    "    \"\"\"\n",
    "    \n",
    "    polarity_transcripts = {}\n",
    "    for party in corpus.index:\n",
    "        transcript = corpus.loc[party].transcripts\n",
    "        partitioned_text = split_text(transcript, n)\n",
    "        polarity_text = list(map(sub, partitioned_text))\n",
    "        polarity_transcripts[party] = polarity_text\n",
    "    return polarity_transcripts"
   ]
  },
  {
   "cell_type": "code",
   "execution_count": 7,
   "metadata": {},
   "outputs": [],
   "source": [
    "def build_party_corpus(corpus):\n",
    "    \"\"\"\n",
    "        Returns the corpus of the political parties and their respective transcripts\n",
    "    \"\"\"\n",
    "    \n",
    "    # Build corpus\n",
    "    party_texts = []\n",
    "    parties = list(set(corpus.Party.values))\n",
    "    for party in parties:\n",
    "        text = \"\"\n",
    "        for row in corpus[corpus.Party == party].itertuples(index=False):\n",
    "            text += row[1]\n",
    "        party_texts.append(text)\n",
    "    party_corpus =  pd.DataFrame({'Party': parties, 'transcripts': party_texts}).set_index('Party')\n",
    "    \n",
    "    # Include only non-null parties\n",
    "    party_order = []\n",
    "    parties = ['Democratic', 'Republican', 'Democratic-Republican', 'Whig', 'Federalist', 'Unaffiliated']\n",
    "    for party in parties:\n",
    "        if party in set(corpus.Party.values):\n",
    "            party_order.append(party)\n",
    "    party_corpus = party_corpus.reindex(index = party_order)\n",
    "    return party_corpus"
   ]
  },
  {
   "cell_type": "markdown",
   "metadata": {},
   "source": [
    "### Plotly Functions"
   ]
  },
  {
   "cell_type": "code",
   "execution_count": 8,
   "metadata": {},
   "outputs": [],
   "source": [
    "def get_polarity_plot(president, polarity_transcripts, show=False):\n",
    "    fig = go.Figure(data=go.Scatter(x=[str(x * .1) for x in list(range(0,10))], y=polarity_transcripts[president], mode='lines+markers'))\n",
    "\n",
    "    print('Polarity of ' + president + ' over time')\n",
    "    fig.update_layout(title='Polarity of ' + president + ' over time',\n",
    "    xaxis_title='Overall transcript length',\n",
    "    yaxis_title='<-- Negative ------------------------ Positive -->')\n",
    "    \n",
    "    fig.update_layout(xaxis_tickformat = '%')\n",
    "    \n",
    "    filename = \"plotly_html/president_htmls/polarity/\" + president + '_polarity_plot.html'\n",
    "    fig.write_html(filename, auto_open=False)\n",
    "    if show:\n",
    "        fig.show()"
   ]
  },
  {
   "cell_type": "code",
   "execution_count": 9,
   "metadata": {},
   "outputs": [],
   "source": [
    "def get_subjectivity_plot(president, subjectivity_transcripts, show=False):\n",
    "    fig = go.Figure(data=go.Scatter(x=[str(x * .1) for x in list(range(0,10))], y=subjectivity_transcripts[president], mode='lines+markers'))\n",
    "\n",
    "    print('Subjectivity of ' + president + ' over time')\n",
    "    fig.update_layout(title='Subjectivity of ' + president + ' over time',\n",
    "    xaxis_title='Overall transcript length',\n",
    "    yaxis_title='<-- Facts ------------------------ Opinions -->')\n",
    "    \n",
    "    fig.update_layout(xaxis_tickformat = '%')\n",
    "    \n",
    "    filename = \"plotly_html/president_htmls/subjectivity/\" + president + '_subjectivity_plot.html'\n",
    "    fig.write_html(filename, auto_open=False)\n",
    "    if show:     \n",
    "        fig.show()"
   ]
  },
  {
   "cell_type": "code",
   "execution_count": 10,
   "metadata": {},
   "outputs": [],
   "source": [
    "def get_party_polarity(corpus, title, corpus_num, show=False):\n",
    "    \n",
    "    party_corpus = build_party_polarity_transcripts(build_party_corpus(corpus), n=10)\n",
    "    \n",
    "    fig = go.Figure()\n",
    "    for party in sorted(party_corpus.keys()):\n",
    "        fig.add_trace(go.Scatter(x=[str(x * .1) for x in list(range(0,10))], y=party_corpus[party],\n",
    "                    mode='lines+markers', name=party))\n",
    "        \n",
    "    print('Polarity of ' + title + ' over time')\n",
    "    fig.update_layout(title='Polarity of ' + title + ' over time',\n",
    "    xaxis_title='Overall transcript length',\n",
    "    yaxis_title='<-- Negative ------------------------ Positive -->')\n",
    "    \n",
    "    fig.update_layout(xaxis_tickformat = '%')\n",
    "\n",
    "    filename = \"plotly_html/party_htmls/political_era_\" + str(corpus_num) + '_polarity_plot.html'\n",
    "    fig.write_html(filename, auto_open=False)\n",
    "    if show:\n",
    "        fig.show()\n",
    "    "
   ]
  },
  {
   "cell_type": "code",
   "execution_count": 11,
   "metadata": {},
   "outputs": [],
   "source": [
    "def get_party_subjectivity(corpus, title, corpus_num, show=False):\n",
    "    \n",
    "    party_corpus = build_party_subjectivity_transcripts(build_party_corpus(corpus), n=10)\n",
    "    \n",
    "    fig = go.Figure()\n",
    "    for party in sorted(party_corpus.keys()):\n",
    "        fig.add_trace(go.Scatter(x=[str(x * .1) for x in list(range(0,10))], y=party_corpus[party],\n",
    "                    mode='lines+markers', name=party))\n",
    "        \n",
    "    print('Subjectivity of ' + title + ' over time')\n",
    "    fig.update_layout(title='Subjectivity of ' + title + ' over time',\n",
    "    xaxis_title='Overall transcript length',\n",
    "    yaxis_title='<-- Facts ------------------------ Opinions -->')\n",
    "    \n",
    "    fig.update_layout(xaxis_tickformat = '%')\n",
    "\n",
    "    filename = \"plotly_html/party_htmls/political_era_\" + str(corpus_num) + '_subjectivity_plot.html'\n",
    "    fig.write_html(filename, auto_open=False)\n",
    "    if show:\n",
    "        fig.show()\n",
    "        "
   ]
  },
  {
   "cell_type": "code",
   "execution_count": 12,
   "metadata": {},
   "outputs": [],
   "source": [
    "def get_president_polarity_pol_era(corpus, title, corpus_num, show=False):\n",
    "    polarity = build_presidents_polarity_transcripts(corpus)\n",
    "    \n",
    "    fig = go.Figure()\n",
    "    \n",
    "    for president in polarity.keys():\n",
    "        fig.add_trace(go.Scatter(x=[str(x * .1) for x in list(range(0,10))], y=polarity[president],\n",
    "                    mode='lines+markers', name=president))\n",
    "\n",
    "    print('Polarity of Presidents during the ' + title + ' over time')\n",
    "    fig.update_layout(title='Polarity of Presidents during the ' + title + ' over time',\n",
    "    xaxis_title='Overall transcript length',\n",
    "    yaxis_title='<-- Negative ------------------------ Positive -->')\n",
    "    \n",
    "    fig.update_layout(xaxis_tickformat = '%')\n",
    "    \n",
    "    filename = \"plotly_html/pol_era_htmls/political_era_\" + str(corpus_num) + '_presidents_polarity_plot.html'\n",
    "    fig.write_html(filename, auto_open=False)\n",
    "    if show:\n",
    "        fig.show()\n",
    "    "
   ]
  },
  {
   "cell_type": "code",
   "execution_count": 13,
   "metadata": {},
   "outputs": [],
   "source": [
    "def get_president_subjectivity_pol_era(corpus, title, corpus_num, show=False):\n",
    "    subjectivity = build_presidents_subjectivity_transcripts(corpus)\n",
    "    \n",
    "    fig = go.Figure()\n",
    "    \n",
    "    for president in subjectivity.keys():\n",
    "        fig.add_trace(go.Scatter(x=[str(x * .1) for x in list(range(0,10))], y=subjectivity[president],\n",
    "                    mode='lines+markers', name=president))\n",
    "\n",
    "    print('Subjectivity of Presidents during the ' + title + ' over time')\n",
    "    fig.update_layout(title='Subjectivity of Presidents during the ' + title + ' over time',\n",
    "    xaxis_title='Overall transcript length',\n",
    "    yaxis_title='<-- Facts ------------------------ Opinions -->')\n",
    "    \n",
    "    fig.update_layout(xaxis_tickformat = '%')\n",
    "    \n",
    "    filename = \"plotly_html/pol_era_htmls/political_era_\" + str(corpus_num) + '_presidents_subjectivity_plot.html'\n",
    "    fig.write_html(filename, auto_open=False)\n",
    "    if show:\n",
    "        fig.show()"
   ]
  },
  {
   "cell_type": "markdown",
   "metadata": {},
   "source": [
    "## Load Data"
   ]
  },
  {
   "cell_type": "code",
   "execution_count": 14,
   "metadata": {},
   "outputs": [],
   "source": [
    "# conda install -c conda-forge adjusttext \n",
    "\n",
    "# Load corpuses\n",
    "corpus = pickle.load(open(\"pickles/corpus.p\", \"rb\" ))\n",
    "first_party_corpus = pickle.load(open(\"pickles/first_party_corpus.p\", \"rb\" ))\n",
    "second_party_corpus = pickle.load(open(\"pickles/second_party_corpus.p\", \"rb\" ))\n",
    "third_party_corpus = pickle.load(open(\"pickles/third_party_corpus.p\", \"rb\" ))\n",
    "fourth_party_corpus = pickle.load(open(\"pickles/fourth_party_corpus.p\", \"rb\" ))\n",
    "fifth_party_corpus = pickle.load(open(\"pickles/fifth_party_corpus.p\", \"rb\" ))\n",
    "sixth_party_corpus = pickle.load(open(\"pickles/sixth_party_corpus.p\", \"rb\" ))"
   ]
  },
  {
   "cell_type": "markdown",
   "metadata": {},
   "source": [
    "## Polarity of Subjectivity of Presidents"
   ]
  },
  {
   "cell_type": "code",
   "execution_count": 15,
   "metadata": {},
   "outputs": [],
   "source": [
    "# Find polarity and subjectivity of texts for each president\n",
    "pol = lambda x: TextBlob(x).sentiment.polarity\n",
    "sub = lambda x: TextBlob(x).sentiment.subjectivity\n",
    "\n",
    "corpus['pol'] = corpus.transcripts.apply(pol)\n",
    "corpus['subj'] = corpus.transcripts.apply(sub)\n",
    "\n",
    "corpus\n",
    "corpus_scatter = corpus.copy()"
   ]
  },
  {
   "cell_type": "markdown",
   "metadata": {},
   "source": [
    "## Polarity and Subjectivity over time"
   ]
  },
  {
   "cell_type": "code",
   "execution_count": 16,
   "metadata": {},
   "outputs": [],
   "source": [
    "# Number of partitions\n",
    "N = 10\n",
    "polarity_transcripts = build_presidents_polarity_transcripts(corpus, N)\n",
    "subjectivity_transcripts = build_presidents_subjectivity_transcripts(corpus, N)"
   ]
  },
  {
   "cell_type": "markdown",
   "metadata": {},
   "source": [
    "### Polarity over time"
   ]
  },
  {
   "cell_type": "code",
   "execution_count": 17,
   "metadata": {},
   "outputs": [],
   "source": [
    "for president in polarity_transcripts.keys():\n",
    "    get_polarity_plot(president, polarity_transcripts)"
   ]
  },
  {
   "cell_type": "markdown",
   "metadata": {},
   "source": [
    "### Subjectivity over time"
   ]
  },
  {
   "cell_type": "code",
   "execution_count": 18,
   "metadata": {},
   "outputs": [],
   "source": [
    "for president in subjectivity_transcripts.keys():\n",
    "    get_subjectivity_plot(president, subjectivity_transcripts)"
   ]
  },
  {
   "cell_type": "markdown",
   "metadata": {},
   "source": [
    "### Subjectivity over time"
   ]
  },
  {
   "cell_type": "code",
   "execution_count": 19,
   "metadata": {},
   "outputs": [],
   "source": [
    "# Find polarity and subjectivity of texts for each political era\n",
    "\n",
    "# First party system\n",
    "first_party_corpus['pol'] = first_party_corpus.transcripts.apply(pol)\n",
    "first_party_corpus['subj'] = first_party_corpus.transcripts.apply(sub)\n",
    "\n",
    "# Second party system\n",
    "second_party_corpus['pol'] = second_party_corpus.transcripts.apply(pol)\n",
    "second_party_corpus['subj'] = second_party_corpus.transcripts.apply(sub)\n",
    "\n",
    "# Third party system\n",
    "third_party_corpus['pol'] = third_party_corpus.transcripts.apply(pol)\n",
    "third_party_corpus['subj'] = third_party_corpus.transcripts.apply(sub)\n",
    "\n",
    "# Fourth party system\n",
    "fourth_party_corpus['pol'] = fourth_party_corpus.transcripts.apply(pol)\n",
    "fourth_party_corpus['subj'] = fourth_party_corpus.transcripts.apply(sub)\n",
    "\n",
    "# Fifth party system\n",
    "fifth_party_corpus['pol'] = fifth_party_corpus.transcripts.apply(pol)\n",
    "fifth_party_corpus['subj'] = fifth_party_corpus.transcripts.apply(sub)\n",
    "\n",
    "# Sixth party system\n",
    "sixth_party_corpus['pol'] = sixth_party_corpus.transcripts.apply(pol)\n",
    "sixth_party_corpus['subj'] = sixth_party_corpus.transcripts.apply(sub)\n",
    "\n",
    "party_system_corpuses = [\n",
    "                            first_party_corpus, \n",
    "                            second_party_corpus,\n",
    "                            third_party_corpus,\n",
    "                            fourth_party_corpus,\n",
    "                            fifth_party_corpus,\n",
    "                            sixth_party_corpus\n",
    "                        ]\n",
    "\n",
    "party_system_titles = [\n",
    "                            'First Party System (1792–1824)',\n",
    "                            'Second Party System (1828–1854)',\n",
    "                            'Third Party System (1854–1895)',\n",
    "                            'Fourth Party System (1896–1932)',\n",
    "                            'Fifth Party System (1932–1964)',\n",
    "                            'Sixth Party System (1964–present)'\n",
    "                        ]\n",
    "\n",
    "political_era_tuples = list(zip(party_system_corpuses, party_system_titles))"
   ]
  },
  {
   "cell_type": "code",
   "execution_count": 20,
   "metadata": {},
   "outputs": [],
   "source": [
    "for i, pol_era in enumerate(political_era_tuples):\n",
    "    pol_era_corpus = pol_era[0]\n",
    "    pol_era_title = pol_era[1]\n",
    "    get_party_polarity(pol_era_corpus, pol_era_title, i+1)\n",
    "    get_party_subjectivity(pol_era_corpus, pol_era_title, i+1)\n",
    "    get_president_polarity_pol_era(pol_era_corpus, pol_era_title, i+1)\n",
    "    get_president_subjectivity_pol_era(pol_era_corpus, pol_era_title, i+1)\n",
    "    "
   ]
  },
  {
   "cell_type": "code",
   "execution_count": null,
   "metadata": {},
   "outputs": [],
   "source": [
    "def get_dict_names():\n",
    "    print('Polarity of ' + title + ' over time')"
   ]
  },
  {
   "cell_type": "code",
   "execution_count": null,
   "metadata": {},
   "outputs": [],
   "source": [
    "for i, pol_era in enumerate(political_era_tuples):\n",
    "    pol_era_corpus = pol_era[0]\n",
    "    pol_era_title = pol_era[1]\n",
    "    "
   ]
  },
  {
   "cell_type": "code",
   "execution_count": 21,
   "metadata": {},
   "outputs": [],
   "source": [
    "president_textposition = {\n",
    "    'John Adams': 'top right',\n",
    "    'Ulysses S. Grant': 'middle right',\n",
    "    'Lyndon B. Johnson': 'bottom center',\n",
    "    'Richard M. Nixon': 'bottom center',\n",
    "    'Jimmy Carter': 'bottom center',\n",
    "    'Barack Obama': 'bottom center',\n",
    "    'George W. Bush': 'middle left',\n",
    "    'John Tyler': 'middle right',\n",
    "    'William Taft': 'bottom center',\n",
    "    'Andrew Jackson': 'bottom center'\n",
    "}"
   ]
  },
  {
   "cell_type": "code",
   "execution_count": 22,
   "metadata": {},
   "outputs": [],
   "source": [
    "parties_color = {\n",
    "            'Democratic': 'blue',\n",
    "            'Democratic-Republican': 'green',\n",
    "            'Federalist': 'orange',\n",
    "            'Republican': 'red',\n",
    "            'Unaffiliated': 'black',\n",
    "            'Whig': 'purple'\n",
    "          }\n",
    "\n",
    "def get_party_color_mapping(corpus):\n",
    "    return list(map(lambda x: parties_color[x], list(corpus.Party.values)))"
   ]
  },
  {
   "cell_type": "code",
   "execution_count": 23,
   "metadata": {},
   "outputs": [],
   "source": [
    "fig = go.Figure()\n",
    "\n",
    "for president in president_textposition.keys():\n",
    "    president_corpus = corpus_scatter[corpus_scatter.index == president]\n",
    "    fig.add_trace(go.Scatter(\n",
    "        x=president_corpus['pol'],\n",
    "        y=president_corpus['subj'],\n",
    "        legendgroup=president_corpus.Party[0],\n",
    "        name=president_corpus.Party[0],\n",
    "        mode=\"markers+text\",\n",
    "        text=president_corpus.index,\n",
    "        textposition= president_textposition[president],\n",
    "        marker=dict(color= get_party_color_mapping(president_corpus)),\n",
    "        showlegend = False\n",
    "    ))\n",
    "    \n",
    "    president_corpus = corpus_scatter[corpus_scatter.index == president]\n",
    "    if president_corpus.Party[0] == 'Federalist':\n",
    "        fig.add_trace(go.Scatter(\n",
    "            x=president_corpus['pol'],\n",
    "            y=president_corpus['subj'],\n",
    "            legendgroup=president_corpus.Party[0],\n",
    "            name=president_corpus.Party[0],\n",
    "            mode=\"markers\",\n",
    "            text=president_corpus.index,\n",
    "            textposition= president_textposition[president],\n",
    "            marker=dict(color= get_party_color_mapping(president_corpus))\n",
    "        ))\n",
    "        \n",
    "corpus_scatter = corpus_scatter.drop(president_textposition.keys())\n",
    "for party in set(corpus_scatter.Party):\n",
    "    party_corpus = corpus_scatter[corpus_scatter.Party == party]\n",
    "    fig.add_trace(go.Scatter(\n",
    "        x=party_corpus['pol'],\n",
    "        y=party_corpus['subj'],\n",
    "        legendgroup=party,\n",
    "        name=party,\n",
    "        mode=\"markers+text\",\n",
    "        text=party_corpus.index,\n",
    "        textposition= \"top center\",\n",
    "        marker=dict(color= get_party_color_mapping(party_corpus)),\n",
    "        showlegend = False\n",
    "    ))\n",
    "    \n",
    "    party_corpus = corpus_scatter[corpus_scatter.Party == party]\n",
    "    fig.add_trace(go.Scatter(\n",
    "        x=party_corpus['pol'],\n",
    "        y=party_corpus['subj'],\n",
    "        legendgroup=party,\n",
    "        name=party,\n",
    "        mode=\"markers\",\n",
    "        text=party_corpus.index,\n",
    "        textposition= \"top center\",\n",
    "        marker=dict(color= get_party_color_mapping(party_corpus))\n",
    "    ))\n",
    "    \n",
    "fig.update_layout(\n",
    "    title=\"Polarity vs Subjectivity\",\n",
    "    xaxis_title=\"<-- Negative ------------------------ Positive -->\",\n",
    "    yaxis_title=\"<-- Facts ------------------------ Opinions -->\",\n",
    "\n",
    ")\n",
    "\n",
    "fig.write_html('plotly_html/sentiment_analysis_scatterplot.html', auto_open=False)"
   ]
  }
 ],
 "metadata": {
  "kernelspec": {
   "display_name": "Python 3",
   "language": "python",
   "name": "python3"
  },
  "language_info": {
   "codemirror_mode": {
    "name": "ipython",
    "version": 3
   },
   "file_extension": ".py",
   "mimetype": "text/x-python",
   "name": "python",
   "nbconvert_exporter": "python",
   "pygments_lexer": "ipython3",
   "version": "3.7.6"
  }
 },
 "nbformat": 4,
 "nbformat_minor": 2
}
