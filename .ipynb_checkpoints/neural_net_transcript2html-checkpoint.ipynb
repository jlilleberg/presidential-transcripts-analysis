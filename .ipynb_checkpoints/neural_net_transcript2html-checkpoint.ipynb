{
 "cells": [
  {
   "cell_type": "code",
   "execution_count": 1,
   "metadata": {},
   "outputs": [],
   "source": [
    "import spacy\n",
    "import numpy as np\n",
    "import pandas as pd\n",
    "from os import listdir\n",
    "from os.path import isfile, join"
   ]
  },
  {
   "cell_type": "code",
   "execution_count": 2,
   "metadata": {},
   "outputs": [],
   "source": [
    "nlp = spacy.load(\"en_core_web_sm\")\n",
    "sentencizer = nlp.create_pipe(\"sentencizer\")\n",
    "nlp.add_pipe(sentencizer, first=True)"
   ]
  },
  {
   "cell_type": "code",
   "execution_count": 3,
   "metadata": {},
   "outputs": [],
   "source": [
    "def parseTranscripts(text, president):\n",
    "    \"\"\"\n",
    "    Given the neural network generated transcript and president, \n",
    "    \"\"\"\n",
    "    \n",
    "    doc = nlp(text)\n",
    "    sentences = list(doc.sents)\n",
    "    \n",
    "    full = []\n",
    "    curr = []\n",
    "    length = 0\n",
    "    for i, s in enumerate(sentences):\n",
    "        length += len(s)\n",
    "        curr.append(s.text)\n",
    "        if length > 150 or len(curr) == 6:\n",
    "            length = 0\n",
    "            full.append(curr)\n",
    "            curr = []\n",
    "    processed_text = '<br/><br/>'.join([' '.join(sentences) for sentences in full])\n",
    "    \n",
    "    with open('NN_transcripts/processed_transcripts/processed_transcript_' + president + \".txt\", 'w') as file:\n",
    "        file.write(processed_text)"
   ]
  },
  {
   "cell_type": "code",
   "execution_count": 4,
   "metadata": {},
   "outputs": [],
   "source": [
    "filenames = [f for f in listdir('NN_transcripts/raw_transcripts') if isfile(join('NN_transcripts/raw_transcripts', f))]\n",
    "\n",
    "for filename in filenames:\n",
    "    \n",
    "    with open(filename, \"r\") as file:\n",
    "        text = file.read()\n",
    "        \n",
    "    president = filename.split('.')[0].split('_')[-1]\n",
    "    parseTranscripts(text, president)"
   ]
  }
 ],
 "metadata": {
  "kernelspec": {
   "display_name": "Python 3",
   "language": "python",
   "name": "python3"
  },
  "language_info": {
   "codemirror_mode": {
    "name": "ipython",
    "version": 3
   },
   "file_extension": ".py",
   "mimetype": "text/x-python",
   "name": "python",
   "nbconvert_exporter": "python",
   "pygments_lexer": "ipython3",
   "version": "3.7.6"
  }
 },
 "nbformat": 4,
 "nbformat_minor": 4
}
