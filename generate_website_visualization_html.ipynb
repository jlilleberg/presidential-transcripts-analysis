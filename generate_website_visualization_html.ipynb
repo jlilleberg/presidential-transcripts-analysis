{
 "cells": [
  {
   "cell_type": "code",
   "execution_count": 1,
   "metadata": {},
   "outputs": [],
   "source": [
    "import os"
   ]
  },
  {
   "cell_type": "code",
   "execution_count": 2,
   "metadata": {},
   "outputs": [],
   "source": [
    "corpus_collection = ['first_corpus', 'second_corpus', 'third_corpus', 'fourth_corpus', 'fifth_corpus', 'sixth_corpus']\n",
    "corpus_topics = ['LDA', 'Term Associations', 'Empaths', 'Term Frequency', 'Topic Frequency', 'Word Similarity']\n",
    "\n",
    "corpus_list_partial_paths = ['first_corpus_', \n",
    "              'second_corpus_', \n",
    "              'third_corpus_', \n",
    "              'fourth_corpus_', \n",
    "              'fifth_corpus_', \n",
    "              'sixth_corpus_']\n",
    "\n",
    "topic_list_partial_paths = ['_LDA_visualization.html',\n",
    "              '_term_associations_visualization.html',\n",
    "              '_empath_topics_visualization.html',\n",
    "              '_term_frequency_visualization.html',\n",
    "              '_topic_frequency_word_similarity_visualization.html',\n",
    "              '_word_similarity_plot_visualization.html']\n",
    "              \n",
    "combined_list = corpus_list_partial_paths + topic_list_partial_paths\n",
    "\n",
    "strip_dict = {}\n",
    "for strip_item in combined_list:\n",
    "    strip_dict[strip_item] = len(strip_item)\n",
    "    \n",
    "political_era_dict = {\n",
    "    1: 'First Party System (1792–1824)',\n",
    "    2: 'Second Party System (1828–1854)',\n",
    "    3: 'Third Party System (1854–1895)',\n",
    "    4: 'Fourth Party System (1896–1932)',\n",
    "    5: 'Fifth Party System (1932–1964)',\n",
    "    6: 'Sixth Party System (1964–present)'\n",
    "}\n",
    "\n",
    "political_era_parameter_dict = {\n",
    "    1: 'first-corpus',\n",
    "    2: 'second-corpus',\n",
    "    3: 'third-corpus',\n",
    "    4: 'fourth-corpus',\n",
    "    5: 'fifth-corpus',\n",
    "    6: 'sixth-corpus'\n",
    "}"
   ]
  },
  {
   "cell_type": "code",
   "execution_count": 3,
   "metadata": {},
   "outputs": [],
   "source": [
    "def get_visual_name(filename):\n",
    "    for corpus in corpus_list_partial_paths:\n",
    "        if corpus in filename:\n",
    "            left = strip_dict[corpus]\n",
    "    \n",
    "    for topic in topic_list_partial_paths:\n",
    "        if topic in filename:\n",
    "            right = -strip_dict[topic]\n",
    "                        \n",
    "    return filename[left:right]"
   ]
  },
  {
   "cell_type": "code",
   "execution_count": 4,
   "metadata": {},
   "outputs": [],
   "source": [
    "def generate_html(corpus_num, plot_type, plot_description_partial, data):\n",
    "    \"\"\"\n",
    "        plot_title: The title for plot type\n",
    "        plot_partial_description: Descriptive text for plot\n",
    "        data: tuple with plot title and plot path\n",
    "    \n",
    "    \"\"\"\n",
    "    if plot_type == 'LDA':\n",
    "        plot_type = 'LDA Topics'\n",
    "        \n",
    "    btn_id = '-'.join(plot_type.lower().split())\n",
    "    btn_id += '-' + str(corpus_num)\n",
    "    \n",
    "    html = '\\n\\t\\t\\t<li class=\"nav-item dropdown\">'\n",
    "    html += '\\n\\t\\t\\t\\t<a id=\"{}\" class=\"nav-link dropdown-toggle\" data-toggle=\"dropdown\" href=\"#\" role=\"button\" aria-haspopup=\"true\" aria-expanded=\"false\">{}</a>'.format(btn_id, plot_type)\n",
    "    html += '\\n\\t\\t\\t\\t<div class=\"dropdown-menu\">'\n",
    "    for title, path in data:\n",
    "        html += '\\n\\t\\t\\t\\t\\t<a class=\"dropdown-item drop-drop-text\" href=\"#\" onClick=\"newVisualization(\\'{} {}\\',\\'{}\\')\">{}</a>'.format(plot_description_partial, title, path, title)\n",
    "    html += '\\n\\t\\t\\t\\t\\t<div class=\"dropdown-divider\"></div>'\n",
    "    html += '\\n\\t\\t\\t\\t\\t<a class=\"dropdown-item drop-drop-text\" href=\"#\">About</a>'\n",
    "    html += '\\n\\t\\t\\t\\t</div>'\n",
    "    html += '\\n\\t\\t\\t</li>'\n",
    "    return html"
   ]
  },
  {
   "cell_type": "code",
   "execution_count": 5,
   "metadata": {},
   "outputs": [],
   "source": [
    "def clean_names(name):\n",
    "    if 'party' in name:\n",
    "        return name[:-5] + ' Party'\n",
    "    elif '_' in name:\n",
    "        name = name.replace('_', ' and ')\n",
    "        partial_clean = ' '.join([name + 's' if name.lower() != 'unaffiliated' else name for name in name.split()])\n",
    "        full_clean = partial_clean.replace('ands', 'and')\n",
    "        return full_clean\n",
    "    return name"
   ]
  },
  {
   "cell_type": "code",
   "execution_count": 6,
   "metadata": {},
   "outputs": [],
   "source": [
    "def generate_political_era_html(corpus):\n",
    "    html = '\\t\\t\\t<li class=\"nav-item dropdown\">'\n",
    "    html += '\\n\\t\\t\\t\\t<a id=\"political-era-{}\" class=\"nav-link dropdown-toggle\" data-toggle=\"dropdown\" href=\"#\" role=\"button\" aria-haspopup=\"true\" aria-expanded=\"false\">Political Era</a>'.format(corpus)\n",
    "    html += '\\n\\n\\t\\t\\t\\t<div class=\"dropdown-menu\">'\n",
    "    for i in range(1, 7):\n",
    "        if i == corpus:\n",
    "            html += '\\n\\t\\t\\t\\t\\t<a class=\"dropdown-item drop-drop-text disabled\" href=\"#\">{}</a>'.format(political_era_dict[i])\n",
    "        else:\n",
    "            html += '\\n\\t\\t\\t\\t\\t<a class=\"dropdown-item drop-drop-text\" href=\"#\" onClick=\"selectCorpus({})\">{}</a>'.format(i, political_era_dict[i])\n",
    "    html += '\\n\\t\\t\\t\\t\\t<div class=\"dropdown-divider\"></div>'\n",
    "    html += '\\n\\t\\t\\t\\t\\t<a class=\"dropdown-item drop-drop-text\" href=\"#\">Separated link</a>'\n",
    "    html += '\\n\\t\\t\\t\\t</div>'\n",
    "    html += '\\n\\t\\t\\t</li>'\n",
    "    return html"
   ]
  },
  {
   "cell_type": "code",
   "execution_count": 7,
   "metadata": {
    "scrolled": true
   },
   "outputs": [
    {
     "data": {
      "text/plain": [
       "59921"
      ]
     },
     "execution_count": 7,
     "metadata": {},
     "output_type": "execute_result"
    }
   ],
   "source": [
    "html = \"\"\n",
    "for k, corpus in enumerate(corpus_collection):\n",
    "    corpus_name = ' '.join([x.capitalize() for x in corpus.split('_')])\n",
    "    html += \"<!-- {} -->\".format(corpus_name)\n",
    "    \n",
    "    if k == 0:\n",
    "        html += '\\n<nav id=\"{}\" class=\"navbar navbar-expand-lg navbar-dark bg-dark curr-corpus\">'.format(political_era_parameter_dict[k+1])\n",
    "    else:\n",
    "        html += '\\n<nav id=\"{}\" class=\"navbar navbar-expand-lg navbar-dark bg-dark invisible position-absolute\">'.format(political_era_parameter_dict[k+1])\n",
    "    html += '\\n\\t<a id=\"nav-political-era-{}\" class=\"navbar-brand disable-pointer\" href=\"#\">{}</a>'.format(k+1, political_era_dict[k+1])\n",
    "    html += '\\n\\t<div class=\"collapse navbar-collapse\" id=\"navbar-collapse\">'\n",
    "    html += '\\n\\t\\t<ul class=\"nav nav-pills nav-fill nav-btn-width\">\\n\\n'\n",
    "    \n",
    "    html += generate_political_era_html(k+1)\n",
    "    \n",
    "    html += '\\n\\n'\n",
    "    \n",
    "    for corpus_topic in corpus_topics:\n",
    "        path = \"Visualizations\" + \"/\" + corpus + \"/\" + corpus_topic\n",
    "        \n",
    "        filenames = []\n",
    "        filepaths = []\n",
    "        for filename in os.listdir(path):\n",
    "            filepath = path + \"/\" + filename\n",
    "            filepaths.append(filepath[15:])\n",
    "            filenames.append(clean_names(get_visual_name(filename)))\n",
    "        name_path_data = list(zip(filenames, filepaths))\n",
    "        \n",
    "        \n",
    "        html += generate_html(k+1, corpus_topic, corpus_topic + ' Plot for', name_path_data) + \"\\n\\n\"\n",
    "        \n",
    "    html += '\\t\\t</ul>'\n",
    "    html += '\\n\\t</div>'\n",
    "    html += '\\n</nav>\\n\\n'\n",
    "        \n",
    "open('text.txt', 'wb').write(html.encode('utf-8')) "
   ]
  }
 ],
 "metadata": {
  "kernelspec": {
   "display_name": "Python 3",
   "language": "python",
   "name": "python3"
  },
  "language_info": {
   "codemirror_mode": {
    "name": "ipython",
    "version": 3
   },
   "file_extension": ".py",
   "mimetype": "text/x-python",
   "name": "python",
   "nbconvert_exporter": "python",
   "pygments_lexer": "ipython3",
   "version": "3.7.4"
  }
 },
 "nbformat": 4,
 "nbformat_minor": 2
}
